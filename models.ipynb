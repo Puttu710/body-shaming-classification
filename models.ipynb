{
 "cells": [
  {
   "cell_type": "code",
   "execution_count": 1,
   "metadata": {},
   "outputs": [],
   "source": [
    "import nltk\n",
    "import json\n",
    "import pickle\n",
    "import pandas as pd\n",
    "from sklearn.model_selection import train_test_split\n",
    "from sklearn.preprocessing import LabelEncoder\n",
    "from sklearn import svm\n",
    "from sklearn.ensemble import RandomForestClassifier\n",
    "from sklearn.linear_model import LogisticRegression\n",
    "from nltk import word_tokenize\n",
    "from sklearn.feature_extraction.text import TfidfTransformer, CountVectorizer\n",
    "from sklearn.metrics import accuracy_score, f1_score, precision_score, recall_score"
   ]
  },
  {
   "cell_type": "code",
   "execution_count": 2,
   "metadata": {},
   "outputs": [],
   "source": [
    "def to_lowercase(words):\n",
    "    \"\"\"Convert all characters to lowercase from list of tokenized words\"\"\"\n",
    "    new_words = []\n",
    "    for word in words:\n",
    "        new_word = word.lower()\n",
    "        new_words.append(new_word)\n",
    "    return new_words\n",
    "\n",
    "def normalize_text(words):\n",
    "    words = to_lowercase(words)\n",
    "    return words"
   ]
  },
  {
   "cell_type": "code",
   "execution_count": 3,
   "metadata": {},
   "outputs": [],
   "source": [
    "def tokenize(text):\n",
    "    return nltk.word_tokenize(text)"
   ]
  },
  {
   "cell_type": "code",
   "execution_count": 4,
   "metadata": {},
   "outputs": [],
   "source": [
    "def text_prepare(text):\n",
    "    text = ' '.join([x for x in normalize_text(tokenize(text))])\n",
    "    return text"
   ]
  },
  {
   "cell_type": "code",
   "execution_count": 5,
   "metadata": {},
   "outputs": [],
   "source": [
    "df=pd.read_csv('sp+Ip+sn+In.csv')\n",
    "df['text'] = [text_prepare(x) for x in df['text']]\n",
    "le = LabelEncoder()\n",
    "df['label'] = le.fit_transform(df['label'])"
   ]
  },
  {
   "cell_type": "code",
   "execution_count": 6,
   "metadata": {},
   "outputs": [],
   "source": [
    "data = df.text\n",
    "data_label = df.label"
   ]
  },
  {
   "cell_type": "code",
   "execution_count": 7,
   "metadata": {},
   "outputs": [],
   "source": [
    "X_train, X_test, y_train, y_test = train_test_split(data, data_label, test_size=0.2, random_state=0)"
   ]
  },
  {
   "cell_type": "code",
   "execution_count": 8,
   "metadata": {},
   "outputs": [],
   "source": [
    "X_train=X_train.tolist()\n",
    "y_train=y_train.tolist()\n",
    "X_test=X_test.tolist()\n",
    "y_test=y_test.tolist()"
   ]
  },
  {
   "cell_type": "markdown",
   "metadata": {},
   "source": [
    "## Random Forest"
   ]
  },
  {
   "cell_type": "code",
   "execution_count": 9,
   "metadata": {},
   "outputs": [],
   "source": [
    "tfidf_transformer = TfidfTransformer(norm = 'l2')\n",
    "count_vec = CountVectorizer(analyzer=\"char\",max_features = 6000,stop_words='english',ngram_range = (1,6))\n",
    "\n",
    "train_x_t = count_vec.fit_transform(X_train)\n",
    "train_x = tfidf_transformer.fit_transform(train_x_t)\n",
    "train_x_char=train_x.toarray()\n",
    "\n",
    "testx_t=count_vec.transform(X_test)\n",
    "test_x= tfidf_transformer.transform(testx_t)\n",
    "test_x_char=test_x.toarray()"
   ]
  },
  {
   "cell_type": "markdown",
   "metadata": {},
   "source": [
    "##### tfidf + character n-grams"
   ]
  },
  {
   "cell_type": "code",
   "execution_count": 10,
   "metadata": {},
   "outputs": [
    {
     "name": "stdout",
     "output_type": "stream",
     "text": [
      "Accuracy Score:  93.75\n",
      "F1 Score:  93.82350708261895\n",
      "Precision:  94.03408387974763\n"
     ]
    }
   ],
   "source": [
    "Random_Forest = RandomForestClassifier(n_estimators=100, random_state=0, class_weight='balanced') \n",
    "Random_Forest.fit(train_x_char,y_train)\n",
    "pred=Random_Forest.predict(test_x_char)\n",
    "print(\"Accuracy Score: \",accuracy_score(pred,y_test)*100)\n",
    "print(\"F1 Score: \",f1_score(pred,y_test, average=\"weighted\")*100)\n",
    "print(\"Precision: \",precision_score(pred, y_test, average=\"weighted\")*100)"
   ]
  },
  {
   "cell_type": "code",
   "execution_count": 11,
   "metadata": {},
   "outputs": [],
   "source": [
    "tfidf_transformer = TfidfTransformer(norm = 'l2')\n",
    "count_vec = CountVectorizer(analyzer=\"word\",max_features = 6000,stop_words='english',ngram_range = (1,2))\n",
    "\n",
    "train_x_t = count_vec.fit_transform(X_train)\n",
    "train_x_word = tfidf_transformer.fit_transform(train_x_t)\n",
    "\n",
    "testx_t=count_vec.transform(X_test)\n",
    "test_x_word= tfidf_transformer.transform(testx_t)"
   ]
  },
  {
   "cell_type": "markdown",
   "metadata": {},
   "source": [
    "##### tfidf + word n-grams"
   ]
  },
  {
   "cell_type": "code",
   "execution_count": 12,
   "metadata": {},
   "outputs": [
    {
     "name": "stdout",
     "output_type": "stream",
     "text": [
      "Accuracy Score:  86.3425925925926\n",
      "F1 Score:  86.79022512298978\n",
      "Precision:  87.96528837386191\n"
     ]
    }
   ],
   "source": [
    "Random_Forest = RandomForestClassifier(n_estimators=100, random_state=0, class_weight='balanced') \n",
    "Random_Forest.fit(train_x_word,y_train)\n",
    "pred=Random_Forest.predict(test_x_word)\n",
    "print(\"Accuracy Score: \",accuracy_score(pred,y_test)*100)\n",
    "print(\"F1 Score: \",f1_score(pred,y_test, average=\"weighted\")*100)\n",
    "print(\"Precision: \",precision_score(pred, y_test, average=\"weighted\")*100)"
   ]
  },
  {
   "cell_type": "code",
   "execution_count": 13,
   "metadata": {},
   "outputs": [],
   "source": [
    "with open('trainx_emb_80%.json','r') as file:\n",
    "    train_X_emb=json.load(file)\n",
    "with open('testx_emb_20%.json','r') as file:\n",
    "    test_X_emb=json.load(file)"
   ]
  },
  {
   "cell_type": "code",
   "execution_count": 14,
   "metadata": {},
   "outputs": [],
   "source": [
    "train_x_tfidf_elmo=[train_X_emb[i]+list(train_x_char[i]) for i in range(len(train_X_emb))]\n",
    "test_x_tfidf_elmo=[test_X_emb[i]+list(test_x_char[i]) for i in range(len(test_X_emb))]"
   ]
  },
  {
   "cell_type": "markdown",
   "metadata": {},
   "source": [
    "##### elmo embeddings"
   ]
  },
  {
   "cell_type": "code",
   "execution_count": 15,
   "metadata": {},
   "outputs": [
    {
     "name": "stdout",
     "output_type": "stream",
     "text": [
      "Accuracy Score:  89.35185185185185\n",
      "F1 Score:  89.68530349578737\n",
      "Precision:  90.729342790768\n"
     ]
    }
   ],
   "source": [
    "Random_Forest = RandomForestClassifier(n_estimators=100, random_state=0, class_weight='balanced') \n",
    "Random_Forest.fit(train_X_emb,y_train)\n",
    "pred=Random_Forest.predict(test_X_emb)\n",
    "print(\"Accuracy Score: \",accuracy_score(pred,y_test)*100)\n",
    "print(\"F1 Score: \",f1_score(pred,y_test, average=\"weighted\")*100)\n",
    "print(\"Precision: \",precision_score(pred, y_test, average=\"weighted\")*100)"
   ]
  },
  {
   "cell_type": "markdown",
   "metadata": {},
   "source": [
    "##### tfidf + elmo embeddings"
   ]
  },
  {
   "cell_type": "code",
   "execution_count": 16,
   "metadata": {},
   "outputs": [
    {
     "name": "stdout",
     "output_type": "stream",
     "text": [
      "Accuracy Score:  91.20370370370371\n",
      "F1 Score:  91.50503708381206\n",
      "Precision:  92.65508085098583\n"
     ]
    }
   ],
   "source": [
    "Random_Forest = RandomForestClassifier(n_estimators=100, random_state=0, class_weight='balanced') \n",
    "Random_Forest.fit(train_x_tfidf_elmo,y_train)\n",
    "pred=Random_Forest.predict(test_x_tfidf_elmo)\n",
    "print(\"Accuracy Score: \",accuracy_score(pred,y_test)*100)\n",
    "print(\"F1 Score: \",f1_score(pred,y_test, average=\"weighted\")*100)\n",
    "print(\"Precision: \",precision_score(pred, y_test, average=\"weighted\")*100)"
   ]
  },
  {
   "cell_type": "markdown",
   "metadata": {},
   "source": [
    "# SVM"
   ]
  },
  {
   "cell_type": "code",
   "execution_count": 17,
   "metadata": {},
   "outputs": [],
   "source": [
    "tfidf_transformer = TfidfTransformer(norm = 'l2')\n",
    "count_vec = CountVectorizer(analyzer=\"char\",max_features = 6000,stop_words='english',ngram_range = (1,6))\n",
    "\n",
    "train_x_t = count_vec.fit_transform(X_train)\n",
    "train_x = tfidf_transformer.fit_transform(train_x_t)\n",
    "train_x_char=train_x.toarray()\n",
    "\n",
    "testx_t=count_vec.transform(X_test)\n",
    "test_x= tfidf_transformer.transform(testx_t)\n",
    "test_x_char=test_x.toarray()"
   ]
  },
  {
   "cell_type": "markdown",
   "metadata": {},
   "source": [
    "##### tfidf + character n-grams"
   ]
  },
  {
   "cell_type": "code",
   "execution_count": 18,
   "metadata": {},
   "outputs": [
    {
     "name": "stdout",
     "output_type": "stream",
     "text": [
      "Accuracy Score:  93.05555555555556\n",
      "F1 Score:  93.09833661669282\n",
      "Precision:  93.18154013223912\n"
     ]
    }
   ],
   "source": [
    "SVM = svm.SVC(C=1.0, kernel='linear')\n",
    "SVM.fit(train_x_char,y_train)\n",
    "pred=SVM.predict(test_x_char)\n",
    "print(\"Accuracy Score: \",accuracy_score(pred,y_test)*100)\n",
    "print(\"F1 Score: \",f1_score(pred,y_test, average=\"weighted\")*100)\n",
    "print(\"Precision: \",precision_score(pred, y_test, average=\"weighted\")*100)"
   ]
  },
  {
   "cell_type": "code",
   "execution_count": 19,
   "metadata": {},
   "outputs": [],
   "source": [
    "tfidf_transformer = TfidfTransformer(norm = 'l2')\n",
    "count_vec = CountVectorizer(analyzer=\"word\",max_features = 6000,stop_words='english',ngram_range = (1,2))\n",
    "\n",
    "train_x_t = count_vec.fit_transform(X_train)\n",
    "train_x_word = tfidf_transformer.fit_transform(train_x_t)\n",
    "\n",
    "testx_t=count_vec.transform(X_test)\n",
    "test_x_word= tfidf_transformer.transform(testx_t)"
   ]
  },
  {
   "cell_type": "markdown",
   "metadata": {},
   "source": [
    "##### tfidf + word n-grams"
   ]
  },
  {
   "cell_type": "code",
   "execution_count": 20,
   "metadata": {},
   "outputs": [
    {
     "name": "stdout",
     "output_type": "stream",
     "text": [
      "Accuracy Score:  84.72222222222221\n",
      "F1 Score:  84.63701348119157\n",
      "Precision:  84.58757749460459\n"
     ]
    }
   ],
   "source": [
    "SVM = svm.SVC(C=1.0, kernel='linear')\n",
    "SVM.fit(train_x_word,y_train)\n",
    "pred=SVM.predict(test_x_word)\n",
    "print(\"Accuracy Score: \",accuracy_score(pred,y_test)*100)\n",
    "print(\"F1 Score: \",f1_score(pred,y_test, average=\"weighted\")*100)\n",
    "print(\"Precision: \",precision_score(pred, y_test, average=\"weighted\")*100)"
   ]
  },
  {
   "cell_type": "code",
   "execution_count": 21,
   "metadata": {},
   "outputs": [],
   "source": [
    "with open('trainx_emb_80%.json','r') as file:\n",
    "    train_X_emb=json.load(file)\n",
    "with open('testx_emb_20%.json','r') as file:\n",
    "    test_X_emb=json.load(file)"
   ]
  },
  {
   "cell_type": "code",
   "execution_count": 22,
   "metadata": {},
   "outputs": [],
   "source": [
    "train_x_tfidf_elmo=[train_X_emb[i]+list(train_x_char[i]) for i in range(len(train_X_emb))]\n",
    "test_x_tfidf_elmo=[test_X_emb[i]+list(test_x_char[i]) for i in range(len(test_X_emb))]"
   ]
  },
  {
   "cell_type": "markdown",
   "metadata": {},
   "source": [
    "##### elmo embeddings"
   ]
  },
  {
   "cell_type": "code",
   "execution_count": 23,
   "metadata": {},
   "outputs": [
    {
     "name": "stdout",
     "output_type": "stream",
     "text": [
      "Accuracy Score:  88.42592592592592\n",
      "F1 Score:  88.30325928076793\n",
      "Precision:  88.33258874363663\n"
     ]
    }
   ],
   "source": [
    "SVM = svm.SVC(C=1.0, kernel='linear')\n",
    "SVM.fit(train_X_emb,y_train)\n",
    "pred=SVM.predict(test_X_emb)\n",
    "print(\"Accuracy Score: \",accuracy_score(pred,y_test)*100)\n",
    "print(\"F1 Score: \",f1_score(pred,y_test, average=\"weighted\")*100)\n",
    "print(\"Precision: \",precision_score(pred, y_test, average=\"weighted\")*100)"
   ]
  },
  {
   "cell_type": "markdown",
   "metadata": {},
   "source": [
    "##### tfidf + elmo embeddings"
   ]
  },
  {
   "cell_type": "code",
   "execution_count": 24,
   "metadata": {},
   "outputs": [
    {
     "name": "stdout",
     "output_type": "stream",
     "text": [
      "Accuracy Score:  88.42592592592592\n",
      "F1 Score:  88.30325928076793\n",
      "Precision:  88.33258874363663\n"
     ]
    }
   ],
   "source": [
    "SVM = svm.SVC(C=1, kernel='linear')\n",
    "SVM.fit(train_x_tfidf_elmo,y_train)\n",
    "pred=SVM.predict(test_x_tfidf_elmo)\n",
    "print(\"Accuracy Score: \",accuracy_score(pred,y_test)*100)\n",
    "print(\"F1 Score: \",f1_score(pred,y_test, average=\"weighted\")*100)\n",
    "print(\"Precision: \",precision_score(pred, y_test, average=\"weighted\")*100)"
   ]
  },
  {
   "cell_type": "markdown",
   "metadata": {},
   "source": [
    "## Logistic Regression"
   ]
  },
  {
   "cell_type": "code",
   "execution_count": 25,
   "metadata": {},
   "outputs": [],
   "source": [
    "tfidf_transformer = TfidfTransformer(norm = 'l2')\n",
    "count_vec = CountVectorizer(analyzer=\"char\",max_features = 6000,stop_words='english',ngram_range = (1,6))\n",
    "\n",
    "train_x_t = count_vec.fit_transform(X_train)\n",
    "train_x = tfidf_transformer.fit_transform(train_x_t)\n",
    "train_x_char=train_x.toarray()\n",
    "\n",
    "testx_t=count_vec.transform(X_test)\n",
    "test_x= tfidf_transformer.transform(testx_t)\n",
    "test_x_char=test_x.toarray()"
   ]
  },
  {
   "cell_type": "markdown",
   "metadata": {},
   "source": [
    "##### tfidf + char n-grams"
   ]
  },
  {
   "cell_type": "code",
   "execution_count": 26,
   "metadata": {},
   "outputs": [
    {
     "name": "stdout",
     "output_type": "stream",
     "text": [
      "Accuracy:  90.27777777777779\n",
      "F1 Score:  88.30325928076793\n",
      "Precision:  88.33258874363663\n"
     ]
    }
   ],
   "source": [
    "LR = LogisticRegression(random_state=0)\n",
    "LR.fit(train_x_char,y_train)\n",
    "predictions_LR = LR.predict(test_x_char)\n",
    "print(\"Accuracy: \",accuracy_score(y_test,predictions_LR)*100)\n",
    "print(\"F1 Score: \",f1_score(pred,y_test, average=\"weighted\")*100)\n",
    "print(\"Precision: \",precision_score(pred, y_test, average=\"weighted\")*100)"
   ]
  },
  {
   "cell_type": "code",
   "execution_count": 27,
   "metadata": {},
   "outputs": [],
   "source": [
    "tfidf_transformer = TfidfTransformer(norm = 'l2')\n",
    "count_vec = CountVectorizer(analyzer=\"word\",max_features = 6000,stop_words='english',ngram_range = (1,2))\n",
    "\n",
    "train_x_t = count_vec.fit_transform(X_train)\n",
    "train_x_word = tfidf_transformer.fit_transform(train_x_t)\n",
    "\n",
    "testx_t=count_vec.transform(X_test)\n",
    "test_x_word= tfidf_transformer.transform(testx_t)"
   ]
  },
  {
   "cell_type": "markdown",
   "metadata": {},
   "source": [
    "##### tfidf + word n-grams"
   ]
  },
  {
   "cell_type": "code",
   "execution_count": 28,
   "metadata": {},
   "outputs": [
    {
     "name": "stdout",
     "output_type": "stream",
     "text": [
      "Accuracy:  85.64814814814815\n",
      "F1 Score:  88.30325928076793\n",
      "Precision:  88.33258874363663\n"
     ]
    }
   ],
   "source": [
    "LR = LogisticRegression(random_state=0)\n",
    "LR.fit(train_x_word,y_train)\n",
    "predictions_LR = LR.predict(test_x_word)\n",
    "print(\"Accuracy: \",accuracy_score(y_test,predictions_LR)*100)\n",
    "print(\"F1 Score: \",f1_score(pred,y_test, average=\"weighted\")*100)\n",
    "print(\"Precision: \",precision_score(pred, y_test, average=\"weighted\")*100)"
   ]
  },
  {
   "cell_type": "code",
   "execution_count": 29,
   "metadata": {},
   "outputs": [],
   "source": [
    "with open('trainx_emb_80%.json','r') as file:\n",
    "    train_X_emb=json.load(file)\n",
    "with open('testx_emb_20%.json','r') as file:\n",
    "    test_X_emb=json.load(file)"
   ]
  },
  {
   "cell_type": "code",
   "execution_count": 30,
   "metadata": {},
   "outputs": [],
   "source": [
    "train_x_tfidf_elmo=[train_X_emb[i]+list(train_x_char[i]) for i in range(len(train_X_emb))]\n",
    "test_x_tfidf_elmo=[test_X_emb[i]+list(test_x_char[i]) for i in range(len(test_X_emb))]"
   ]
  },
  {
   "cell_type": "markdown",
   "metadata": {},
   "source": [
    "##### elmo embeddings"
   ]
  },
  {
   "cell_type": "code",
   "execution_count": 31,
   "metadata": {},
   "outputs": [
    {
     "name": "stdout",
     "output_type": "stream",
     "text": [
      "Accuracy Score:  91.89814814814815\n",
      "F1 Score:  91.90613234606465\n",
      "Precision:  91.91522216265506\n"
     ]
    }
   ],
   "source": [
    "LR = LogisticRegression(C=1, random_state=0, max_iter=600)\n",
    "LR.fit(train_X_emb,y_train)\n",
    "pred=LR.predict(test_X_emb)\n",
    "print(\"Accuracy Score: \",accuracy_score(pred,y_test)*100)\n",
    "print(\"F1 Score: \",f1_score(pred,y_test, average=\"weighted\")*100)\n",
    "print(\"Precision: \",precision_score(pred, y_test, average=\"weighted\")*100)"
   ]
  },
  {
   "cell_type": "markdown",
   "metadata": {},
   "source": [
    "##### tfidf + elmo embeddings"
   ]
  },
  {
   "cell_type": "code",
   "execution_count": 32,
   "metadata": {},
   "outputs": [
    {
     "name": "stdout",
     "output_type": "stream",
     "text": [
      "Accuracy Score:  91.89814814814815\n",
      "F1 Score:  91.90613234606465\n",
      "Precision:  91.91522216265506\n"
     ]
    }
   ],
   "source": [
    "LR = LogisticRegression(C=1, random_state=0, max_iter=600) \n",
    "LR.fit(train_x_tfidf_elmo,y_train)\n",
    "pred=LR.predict(test_x_tfidf_elmo)\n",
    "print(\"Accuracy Score: \",accuracy_score(pred,y_test)*100)\n",
    "print(\"F1 Score: \",f1_score(pred,y_test, average=\"weighted\")*100)\n",
    "print(\"Precision: \",precision_score(pred, y_test, average=\"weighted\")*100)"
   ]
  },
  {
   "cell_type": "code",
   "execution_count": null,
   "metadata": {},
   "outputs": [],
   "source": []
  }
 ],
 "metadata": {
  "kernelspec": {
   "display_name": "Python 3",
   "language": "python",
   "name": "python3"
  },
  "language_info": {
   "codemirror_mode": {
    "name": "ipython",
    "version": 3
   },
   "file_extension": ".py",
   "mimetype": "text/x-python",
   "name": "python",
   "nbconvert_exporter": "python",
   "pygments_lexer": "ipython3",
   "version": "3.6.9"
  }
 },
 "nbformat": 4,
 "nbformat_minor": 2
}
