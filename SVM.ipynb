{
 "cells": [
  {
   "cell_type": "code",
   "execution_count": 19,
   "metadata": {},
   "outputs": [],
   "source": [
    "import numpy\n",
    "import pandas\n",
    "from sklearn.feature_extraction.text import CountVectorizer\n",
    "from nltk.corpus import stopwords\n",
    "from sklearn.model_selection import GridSearchCV\n",
    "from sklearn.svm import SVC\n",
    "from sklearn.metrics import make_scorer, accuracy_score, f1_score, precision_score, recall_score"
   ]
  },
  {
   "cell_type": "code",
   "execution_count": 20,
   "metadata": {},
   "outputs": [],
   "source": [
    "data_path = \"./data/\"\n",
    "train_data = data_path + \"sp+Ip+sn+In.csv\"\n",
    "# test_data = data_path + \"\""
   ]
  },
  {
   "cell_type": "code",
   "execution_count": 21,
   "metadata": {},
   "outputs": [
    {
     "name": "stdout",
     "output_type": "stream",
     "text": [
      "                                                   text  label\n",
      "0     Its Holy everyone up is quiet palmdale bbw ove...      0\n",
      "1     May you all have a peaceful tiredbuthappy deca...      0\n",
      "2     Costco New York is my a Tastes great and paire...      0\n",
      "3     each time you shoot a zero you have to give me...      0\n",
      "4     Facebook strikes again – I liked a few pages o...      1\n",
      "...                                                 ...    ...\n",
      "2154  a comment from my tutor about the recent �no m...      1\n",
      "2155  doing my christmas shopping i noticed a perfec...      0\n",
      "2156  and ive said im a feminist before but people j...      0\n",
      "2157  God rescue is the best thing you could ever as...      0\n",
      "2158  A boy thought it was funny to constantly tease...      1\n",
      "\n",
      "[2159 rows x 2 columns]\n"
     ]
    }
   ],
   "source": [
    "train_set = pandas.read_csv(train_data)\n",
    "# print(train_set.shape)\n",
    "# print(type(train_set))\n",
    "print(train_set)"
   ]
  },
  {
   "cell_type": "code",
   "execution_count": 22,
   "metadata": {},
   "outputs": [
    {
     "name": "stdout",
     "output_type": "stream",
     "text": [
      "0       Its Holy everyone up is quiet palmdale bbw ove...\n",
      "1       May you all have a peaceful tiredbuthappy deca...\n",
      "2       Costco New York is my a Tastes great and paire...\n",
      "3       each time you shoot a zero you have to give me...\n",
      "4       Facebook strikes again – I liked a few pages o...\n",
      "                              ...                        \n",
      "2154    a comment from my tutor about the recent �no m...\n",
      "2155    doing my christmas shopping i noticed a perfec...\n",
      "2156    and ive said im a feminist before but people j...\n",
      "2157    God rescue is the best thing you could ever as...\n",
      "2158    A boy thought it was funny to constantly tease...\n",
      "Name: text, Length: 2159, dtype: object\n",
      "<class 'pandas.core.series.Series'>\n",
      "(2159,)\n",
      "0       0\n",
      "1       0\n",
      "2       0\n",
      "3       0\n",
      "4       1\n",
      "       ..\n",
      "2154    1\n",
      "2155    0\n",
      "2156    0\n",
      "2157    0\n",
      "2158    1\n",
      "Name: label, Length: 2159, dtype: int64\n"
     ]
    }
   ],
   "source": [
    "X_train = train_set['text']\n",
    "print(X_train)\n",
    "Y_train = train_set['label']\n",
    "# print(type(Y_train))\n",
    "# print(Y_train.shape)\n",
    "# print(Y_train)"
   ]
  },
  {
   "cell_type": "code",
   "execution_count": null,
   "metadata": {},
   "outputs": [],
   "source": [
    "test_set = pandas.read_csv(test_data)\n",
    "# print(test_set.shape)\n",
    "# print(type(test_set))\n",
    "print(test_set)"
   ]
  },
  {
   "cell_type": "code",
   "execution_count": null,
   "metadata": {},
   "outputs": [],
   "source": [
    "X_test = test_set['text']\n",
    "print(X_test)\n",
    "Y_test = test_set['label']\n",
    "# print(type(Y_test))\n",
    "# print(Y_test.shape)\n",
    "# print(Y_test)"
   ]
  },
  {
   "cell_type": "code",
   "execution_count": 18,
   "metadata": {},
   "outputs": [],
   "source": [
    "vectorizer = CountVectorizer(analyzer = 'word',lowercase = True,ngram_range=(1, 1),\n",
    "             stop_words = set(stopwords.words(\"english\")))\n",
    "vectorizer.fit(X_train)\n",
    "train_features = vectorizer.transform(X_train)\n",
    "test_features = vectorizer.transform(X_test)"
   ]
  },
  {
   "cell_type": "code",
   "execution_count": null,
   "metadata": {},
   "outputs": [],
   "source": [
    "tuned_params = {'kernel': ['rbf'], 'gamma': [1e-3],'C': [10]}\n",
    "classifier = GridSearchCV(SVC(), tuned_params)\n",
    "classifier.fit(train_features, Y_train)\n",
    "Y_predict = classifier.predict(test_features)\n",
    "acc = accuracy_score(Y_test, Y_predict)\n",
    "print(\"Accuracy:   \", acc)\n",
    "f1 = f1_score(Y_test, Y_predict, average='weighted')\n",
    "print(\"F1 score:   \", f1)"
   ]
  },
  {
   "cell_type": "code",
   "execution_count": 10,
   "metadata": {},
   "outputs": [
    {
     "name": "stdout",
     "output_type": "stream",
     "text": [
      "Accuracy:    0.7731481481481481\n",
      "F1 score:    0.7495318265965402\n"
     ]
    }
   ],
   "source": [
    "import numpy\n",
    "import pandas\n",
    "from sklearn.feature_extraction.text import CountVectorizer\n",
    "from nltk.corpus import stopwords\n",
    "from sklearn.model_selection import train_test_split\n",
    "from sklearn.model_selection import GridSearchCV\n",
    "from sklearn.svm import SVC\n",
    "from sklearn.metrics import make_scorer, accuracy_score, f1_score, precision_score, recall_score\n",
    "\n",
    "data_path = \"./data/\"\n",
    "data = data_path + \"sp+Ip+sn+In.csv\"\n",
    "\n",
    "data_set = pandas.read_csv(data)\n",
    "# print(data_set.shape)\n",
    "# print(type(data_set))\n",
    "# print(data_set)\n",
    "labels = data_set['label']\n",
    "data_set = data_set['text']\n",
    "\n",
    "X_train, X_validate, Y_train, Y_validate = train_test_split(data_set, labels, test_size=0.2, random_state=42)\n",
    "\n",
    "\n",
    "# X_train = train_set['text']\n",
    "# print(X_train)\n",
    "# Y_train = train_set['label']\n",
    "# print(type(Y_train))\n",
    "# print(Y_train.shape)\n",
    "# print(Y_train)\n",
    "\n",
    "# test_set = pandas.read_csv(test_data)\n",
    "# print(test_set.shape)\n",
    "# print(type(test_set))\n",
    "# print(test_set)\n",
    "\n",
    "# X_test = test_set['text']\n",
    "# print(X_test)\n",
    "# Y_test = test_set['label']\n",
    "# print(type(Y_test))\n",
    "# print(Y_test.shape)\n",
    "# print(Y_test)\n",
    "\n",
    "vectorizer = CountVectorizer(analyzer = 'word',lowercase = True,ngram_range=(1, 1),\n",
    "             stop_words = set(stopwords.words(\"english\")))\n",
    "vectorizer.fit(X_train)\n",
    "train_features = vectorizer.transform(X_train)\n",
    "validate_features = vectorizer.transform(X_validate)\n",
    "\n",
    "tuned_params = {'kernel': ['rbf'], 'gamma': [1e-3],'C': [10]}\n",
    "classifier = GridSearchCV(SVC(), tuned_params)\n",
    "classifier.fit(train_features, Y_train)\n",
    "Y_predict = classifier.predict(validate_features)\n",
    "acc = accuracy_score(Y_validate, Y_predict)\n",
    "print(\"Accuracy:   \", acc)\n",
    "f1 = f1_score(Y_validate, Y_predict, average='weighted')\n",
    "print(\"F1 score:   \", f1)"
   ]
  }
 ],
 "metadata": {
  "kernelspec": {
   "display_name": "Python 3",
   "language": "python",
   "name": "python3"
  },
  "language_info": {
   "codemirror_mode": {
    "name": "ipython",
    "version": 3
   },
   "file_extension": ".py",
   "mimetype": "text/x-python",
   "name": "python",
   "nbconvert_exporter": "python",
   "pygments_lexer": "ipython3",
   "version": "3.8.3"
  }
 },
 "nbformat": 4,
 "nbformat_minor": 4
}
