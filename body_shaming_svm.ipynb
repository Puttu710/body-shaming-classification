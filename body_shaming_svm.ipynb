{
  "nbformat": 4,
  "nbformat_minor": 0,
  "metadata": {
    "colab": {
      "name": "body_shaming_svm.ipynb",
      "provenance": [],
      "collapsed_sections": [],
      "toc_visible": true
    },
    "kernelspec": {
      "name": "python3",
      "display_name": "Python 3"
    }
  },
  "cells": [
    {
      "cell_type": "code",
      "metadata": {
        "id": "GC7fYZIC4Hst",
        "outputId": "04e69565-0256-4f2b-8e58-e0dff2d1ad5d",
        "colab": {
          "base_uri": "https://localhost:8080/",
          "height": 34
        }
      },
      "source": [
        "from google.colab import drive\n",
        "drive.mount('/content/gdrive')"
      ],
      "execution_count": 1,
      "outputs": [
        {
          "output_type": "stream",
          "text": [
            "Mounted at /content/gdrive\n"
          ],
          "name": "stdout"
        }
      ]
    },
    {
      "cell_type": "code",
      "metadata": {
        "id": "kIIQKNzIUQwH"
      },
      "source": [
        "import pandas as pd\n",
        "import json\n",
        "from sklearn import svm\n",
        "from sklearn.model_selection import train_test_split\n",
        "from sklearn.feature_extraction.text import TfidfTransformer, CountVectorizer\n",
        "from sklearn.metrics import accuracy_score"
      ],
      "execution_count": 2,
      "outputs": []
    },
    {
      "cell_type": "code",
      "metadata": {
        "id": "sl6oFp9BUgDO",
        "outputId": "c485ceeb-0ff1-4bd0-a14f-1cddf1801d52",
        "colab": {
          "base_uri": "https://localhost:8080/",
          "height": 51
        }
      },
      "source": [
        "import nltk\n",
        "nltk.download('punkt')\n",
        "import pickle\n",
        "from nltk import word_tokenize, sent_tokenize\n",
        "from nltk.corpus import stopwords\n",
        "from bs4 import BeautifulSoup\n",
        "from nltk.stem import LancasterStemmer, WordNetLemmatizer\n",
        "from sklearn.preprocessing import LabelEncoder"
      ],
      "execution_count": 3,
      "outputs": [
        {
          "output_type": "stream",
          "text": [
            "[nltk_data] Downloading package punkt to /root/nltk_data...\n",
            "[nltk_data]   Unzipping tokenizers/punkt.zip.\n"
          ],
          "name": "stdout"
        }
      ]
    },
    {
      "cell_type": "code",
      "metadata": {
        "id": "gfAI2h-iUzfe"
      },
      "source": [
        "def to_lowercase(words):\n",
        "    \"\"\"Convert all characters to lowercase from list of tokenized words\"\"\"\n",
        "    new_words = []\n",
        "    for word in words:\n",
        "        new_word = word.lower()\n",
        "        new_words.append(new_word)\n",
        "    return new_words\n",
        "\n",
        "def normalize_text(words):\n",
        "    words = to_lowercase(words)\n",
        "    return words"
      ],
      "execution_count": 4,
      "outputs": []
    },
    {
      "cell_type": "code",
      "metadata": {
        "id": "z3o8tWwXU017"
      },
      "source": [
        "def tokenize(text):\n",
        "    return nltk.word_tokenize(text)"
      ],
      "execution_count": 5,
      "outputs": []
    },
    {
      "cell_type": "code",
      "metadata": {
        "id": "Qa6vlUl_U-M0"
      },
      "source": [
        "def text_prepare(text):\n",
        "    text = ' '.join([x for x in normalize_text(tokenize(text))])\n",
        "    return text"
      ],
      "execution_count": 6,
      "outputs": []
    },
    {
      "cell_type": "code",
      "metadata": {
        "id": "2181-MP0VCzA"
      },
      "source": [
        "df=pd.read_csv(\"/content/gdrive/My Drive/data_set/sp+Ip+sn+In.csv\")\n",
        "df['text'] = [text_prepare(x) for x in df['text']]\n",
        "le = LabelEncoder()\n",
        "df['label'] = le.fit_transform(df['label'])"
      ],
      "execution_count": 8,
      "outputs": []
    },
    {
      "cell_type": "code",
      "metadata": {
        "id": "hhKMyzvkVJ7G"
      },
      "source": [
        "data = df.text\n",
        "data_label = df.label"
      ],
      "execution_count": 9,
      "outputs": []
    },
    {
      "cell_type": "code",
      "metadata": {
        "id": "ijxBAUyNVN7C"
      },
      "source": [
        "X_train, X_test, y_train, y_test = train_test_split(data, data_label, test_size=0.2, random_state=0)"
      ],
      "execution_count": 10,
      "outputs": []
    },
    {
      "cell_type": "code",
      "metadata": {
        "id": "5A1fopmfVS0a"
      },
      "source": [
        "X_train=X_train.tolist()\n",
        "y_train=y_train.tolist()\n",
        "X_test=X_test.tolist()\n",
        "y_test=y_test.tolist()"
      ],
      "execution_count": 11,
      "outputs": []
    },
    {
      "cell_type": "markdown",
      "metadata": {
        "id": "p5Wh9AGEMKv0"
      },
      "source": [
        "###tfidf char ngrams"
      ]
    },
    {
      "cell_type": "code",
      "metadata": {
        "id": "qicgbDTlVXzN"
      },
      "source": [
        "tfidf_transformer = TfidfTransformer(norm = 'l2')\n",
        "count_vec = CountVectorizer(analyzer=\"char\",max_features = 10000,stop_words='english',ngram_range = (1,8))\n",
        "\n",
        "trainx_t = count_vec.fit_transform(X_train)\n",
        "testx_t=count_vec.transform(X_test)\n",
        "\n",
        "train_x = tfidf_transformer.fit_transform(trainx_t)\n",
        "test_x= tfidf_transformer.transform(testx_t)\n",
        "\n",
        "train_x_char=train_x.toarray()\n",
        "test_x_char=test_x.toarray()"
      ],
      "execution_count": 12,
      "outputs": []
    },
    {
      "cell_type": "markdown",
      "metadata": {
        "id": "qDl_TMu7MfWA"
      },
      "source": [
        "###tfidf(char)+svm"
      ]
    },
    {
      "cell_type": "code",
      "metadata": {
        "id": "20zbVjay3gQg",
        "outputId": "2c61a663-fe6a-4279-85b0-8b5500679ec6",
        "colab": {
          "base_uri": "https://localhost:8080/",
          "height": 34
        }
      },
      "source": [
        "SVM = svm.SVC(C=1.0, kernel='linear', degree=3, gamma='auto',class_weight='balanced')\n",
        "SVM.fit(train_x_char,y_train)\n",
        "pred=SVM.predict(test_x_char)\n",
        "print(\"Tfidf(char)+SVM Accuracy Score -> \",accuracy_score(pred,y_test)*100)\n"
      ],
      "execution_count": 13,
      "outputs": [
        {
          "output_type": "stream",
          "text": [
            "Tfidf(char)+SVM Accuracy Score ->  91.66666666666666\n"
          ],
          "name": "stdout"
        }
      ]
    },
    {
      "cell_type": "markdown",
      "metadata": {
        "id": "EHLCF4O1MosI"
      },
      "source": [
        "###tfidf word ngrams"
      ]
    },
    {
      "cell_type": "code",
      "metadata": {
        "id": "407-L4tT5Mrp"
      },
      "source": [
        "tfidf_transformer = TfidfTransformer(norm = 'l2')\n",
        "count_vec = CountVectorizer(analyzer=\"word\",max_features = 10000,stop_words='english',ngram_range = (1,2))\n",
        "trainx_t = count_vec.fit_transform(X_train)\n",
        "testx_t=count_vec.transform(X_test)\n",
        "train_x_word = tfidf_transformer.fit_transform(trainx_t)\n",
        "test_x_word= tfidf_transformer.transform(testx_t)"
      ],
      "execution_count": 14,
      "outputs": []
    },
    {
      "cell_type": "markdown",
      "metadata": {
        "id": "n2RGUYb9M8lc"
      },
      "source": [
        "###tfidf(word)+svm"
      ]
    },
    {
      "cell_type": "code",
      "metadata": {
        "id": "aA-AqliY_ogr",
        "outputId": "6fc91695-3a0f-4098-f350-00ed5c1153e2",
        "colab": {
          "base_uri": "https://localhost:8080/",
          "height": 34
        }
      },
      "source": [
        "SVM = svm.SVC(C=1.0, kernel='linear', degree=3, gamma='auto',class_weight='balanced')\n",
        "SVM.fit(train_x_word,y_train)\n",
        "pred=SVM.predict(test_x_word)\n",
        "print(\"Tfidf(word)+SVM Accuracy Score -> \",accuracy_score(pred,y_test)*100)"
      ],
      "execution_count": 15,
      "outputs": [
        {
          "output_type": "stream",
          "text": [
            "Tfidf(word)+SVM Accuracy Score ->  84.25925925925925\n"
          ],
          "name": "stdout"
        }
      ]
    },
    {
      "cell_type": "code",
      "metadata": {
        "id": "UFqyPf-fA2IA"
      },
      "source": [
        "with open('/content/gdrive/My Drive/data/trainx_emb_80%.json','r') as file:\n",
        "    Train_X_emb=json.load(file)\n",
        "with open('/content/gdrive/My Drive/data/testx_emb_20%.json','r') as file:\n",
        "    Test_X_emb=json.load(file)"
      ],
      "execution_count": 17,
      "outputs": []
    },
    {
      "cell_type": "code",
      "metadata": {
        "id": "gMMSzmhlA5Pb"
      },
      "source": [
        "train_x_tfidf_elmo=[Train_X_emb[i]+list(train_x_char[i]) for i in range(len(Train_X_emb))]\n",
        "test_x_tfidf_elmo=[Test_X_emb[i]+list(test_x_char[i]) for i in range(len(Test_X_emb))]"
      ],
      "execution_count": 18,
      "outputs": []
    },
    {
      "cell_type": "markdown",
      "metadata": {
        "id": "gZJHe1aZNDzK"
      },
      "source": [
        "####elmo+svm"
      ]
    },
    {
      "cell_type": "code",
      "metadata": {
        "id": "RAxx0pvJBDQf",
        "outputId": "0d2deb70-519c-41e5-a646-f8cd1c3874c2",
        "colab": {
          "base_uri": "https://localhost:8080/",
          "height": 34
        }
      },
      "source": [
        "SVM = svm.SVC(C=1.0, kernel='linear', degree=3, gamma='auto',class_weight='balanced')\n",
        "SVM.fit(Train_X_emb,y_train)\n",
        "pred=SVM.predict(Test_X_emb)\n",
        "print(\"Elmo+SVM Accuracy Score -> \",accuracy_score(pred,y_test)*100)\n"
      ],
      "execution_count": 19,
      "outputs": [
        {
          "output_type": "stream",
          "text": [
            "Elmo+SVM Accuracy Score ->  88.42592592592592\n"
          ],
          "name": "stdout"
        }
      ]
    },
    {
      "cell_type": "markdown",
      "metadata": {
        "id": "0yH1VjHbNJFM"
      },
      "source": [
        "###elmo+tfidf+svm"
      ]
    },
    {
      "cell_type": "code",
      "metadata": {
        "id": "WpYm4Q7XBIEy",
        "outputId": "821f46d3-bf46-40b3-9dcf-6ae669b731bb",
        "colab": {
          "base_uri": "https://localhost:8080/",
          "height": 34
        }
      },
      "source": [
        "SVM = svm.SVC(C=1.0, kernel='linear', degree=3, gamma='auto',class_weight='balanced')\n",
        "SVM.fit(train_x_tfidf_elmo,y_train)\n",
        "pred=SVM.predict(test_x_tfidf_elmo)\n",
        "print(\"Elmo+tfidf+SVM Accuracy Score -> \",accuracy_score(pred,y_test)*100)"
      ],
      "execution_count": 20,
      "outputs": [
        {
          "output_type": "stream",
          "text": [
            "Elmo+tfidf+SVM Accuracy Score ->  88.6574074074074\n"
          ],
          "name": "stdout"
        }
      ]
    },
    {
      "cell_type": "code",
      "metadata": {
        "id": "_sGJQcE1AdlZ"
      },
      "source": [
        ""
      ],
      "execution_count": null,
      "outputs": []
    }
  ]
}