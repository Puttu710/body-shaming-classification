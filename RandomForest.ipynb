{
 "cells": [
  {
   "cell_type": "code",
   "execution_count": 1,
   "metadata": {},
   "outputs": [],
   "source": [
    "from sklearn import svm\n",
    "import json\n",
    "from sklearn.model_selection import train_test_split\n",
    "from sklearn.linear_model import LogisticRegression\n",
    "from sklearn.feature_extraction.text import TfidfTransformer, CountVectorizer\n",
    "from sklearn.metrics import accuracy_score\n",
    "from sklearn.ensemble import RandomForestClassifier\n",
    "import pandas as pd"
   ]
  },
  {
   "cell_type": "code",
   "execution_count": 2,
   "metadata": {},
   "outputs": [],
   "source": [
    "import nltk\n",
    "import pickle\n",
    "from nltk import word_tokenize, sent_tokenize\n",
    "from nltk.corpus import stopwords\n",
    "from bs4 import BeautifulSoup\n",
    "from nltk.stem import LancasterStemmer, WordNetLemmatizer\n",
    "from sklearn.preprocessing import LabelEncoder"
   ]
  },
  {
   "cell_type": "code",
   "execution_count": 3,
   "metadata": {},
   "outputs": [],
   "source": [
    "def to_lowercase(words):\n",
    "    \"\"\"Convert all characters to lowercase from list of tokenized words\"\"\"\n",
    "    new_words = []\n",
    "    for word in words:\n",
    "        new_word = word.lower()\n",
    "        new_words.append(new_word)\n",
    "    return new_words\n",
    "\n",
    "def normalize_text(words):\n",
    "    words = to_lowercase(words)\n",
    "    return words"
   ]
  },
  {
   "cell_type": "code",
   "execution_count": 4,
   "metadata": {},
   "outputs": [],
   "source": [
    "def tokenize(text):\n",
    "    return nltk.word_tokenize(text)"
   ]
  },
  {
   "cell_type": "code",
   "execution_count": 5,
   "metadata": {},
   "outputs": [],
   "source": [
    "def text_prepare(text):\n",
    "    text = ' '.join([x for x in normalize_text(tokenize(text))])\n",
    "    return text"
   ]
  },
  {
   "cell_type": "code",
   "execution_count": 6,
   "metadata": {},
   "outputs": [],
   "source": [
    "df=pd.read_csv('sp+Ip+sn+In.csv')\n",
    "df['text'] = [text_prepare(x) for x in df['text']]\n",
    "le = LabelEncoder()\n",
    "df['label'] = le.fit_transform(df['label'])"
   ]
  },
  {
   "cell_type": "code",
   "execution_count": 7,
   "metadata": {},
   "outputs": [],
   "source": [
    "data = df.text\n",
    "data_label = df.label"
   ]
  },
  {
   "cell_type": "code",
   "execution_count": null,
   "metadata": {},
   "outputs": [],
   "source": [
    "# data=pd.read_csv('sp+Ip+sn+In.csv')\n",
    "# data_label = data['label']\n",
    "# # del data['label']"
   ]
  },
  {
   "cell_type": "code",
   "execution_count": 8,
   "metadata": {},
   "outputs": [],
   "source": [
    "X_train, X_test, y_train, y_test = train_test_split(data, data_label, test_size=0.2, random_state=0)"
   ]
  },
  {
   "cell_type": "code",
   "execution_count": null,
   "metadata": {},
   "outputs": [],
   "source": [
    "# pickle.dump( X_train, open( \"X_train.p\", \"wb\" ) )\n",
    "# pickle.dump( X_test, open( \"X_test.p\", \"wb\" ) )\n",
    "# pickle.dump( y_train, open( \"y_train.p\", \"wb\" ) )\n",
    "# pickle.dump( y_test, open( \"y_test.p\", \"wb\" ) )"
   ]
  },
  {
   "cell_type": "code",
   "execution_count": 9,
   "metadata": {},
   "outputs": [],
   "source": [
    "X_train=X_train.tolist()\n",
    "y_train=y_train.tolist()\n",
    "X_test=X_test.tolist()\n",
    "y_test=y_test.tolist()"
   ]
  },
  {
   "cell_type": "code",
   "execution_count": null,
   "metadata": {},
   "outputs": [],
   "source": [
    "# pickle.dump( X_train, open( \"X_train.p\", \"wb\" ) )\n",
    "# pickle.dump( X_test, open( \"X_test.p\", \"wb\" ) )\n",
    "# pickle.dump( y_train, open( \"y_train.p\", \"wb\" ) )\n",
    "# pickle.dump( y_test, open( \"y_test.p\", \"wb\" ) )"
   ]
  },
  {
   "cell_type": "code",
   "execution_count": null,
   "metadata": {},
   "outputs": [],
   "source": [
    "# X_train = pickle.load( open( \"X_train.p\", \"rb\" ) )\n",
    "# y_train = pickle.load( open( \"y_train.p\", \"rb\" ) )\n",
    "# X_test = pickle.load( open( \"X_test.p\", \"rb\" ) )\n",
    "# y_test = pickle.load( open( \"y_test.p\", \"rb\" ) )"
   ]
  },
  {
   "cell_type": "code",
   "execution_count": 10,
   "metadata": {},
   "outputs": [],
   "source": [
    "tfidf_transformer = TfidfTransformer(norm = 'l2')\n",
    "count_vec = CountVectorizer(analyzer=\"char\",max_features = 10000,stop_words='english',ngram_range = (1,8))\n",
    "\n",
    "trainx_t = count_vec.fit_transform(X_train)\n",
    "testx_t=count_vec.transform(X_test)\n",
    "\n",
    "train_x = tfidf_transformer.fit_transform(trainx_t)\n",
    "test_x= tfidf_transformer.transform(testx_t)\n",
    "\n",
    "train_x_char=train_x.toarray()\n",
    "test_x_char=test_x.toarray()"
   ]
  },
  {
   "cell_type": "markdown",
   "metadata": {},
   "source": [
    "##### tfidf + character n-grams"
   ]
  },
  {
   "cell_type": "code",
   "execution_count": 11,
   "metadata": {},
   "outputs": [
    {
     "name": "stdout",
     "output_type": "stream",
     "text": [
      "Accuracy Score:  93.05555555555556\n"
     ]
    }
   ],
   "source": [
    "Random_Forest = RandomForestClassifier(n_estimators=800, random_state=0, class_weight='balanced') \n",
    "Random_Forest.fit(train_x_char,y_train)\n",
    "pred=Random_Forest.predict(test_x_char)\n",
    "print(\"Accuracy Score: \",accuracy_score(pred,y_test)*100)"
   ]
  },
  {
   "cell_type": "code",
   "execution_count": 12,
   "metadata": {},
   "outputs": [],
   "source": [
    "tfidf_transformer = TfidfTransformer(norm = 'l2')\n",
    "count_vec = CountVectorizer(analyzer=\"word\",max_features = 10000,stop_words='english',ngram_range = (1,2))\n",
    "\n",
    "trainx_t = count_vec.fit_transform(X_train)\n",
    "testx_t=count_vec.transform(X_test)\n",
    "\n",
    "train_x_word = tfidf_transformer.fit_transform(trainx_t)\n",
    "test_x_word= tfidf_transformer.transform(testx_t)"
   ]
  },
  {
   "cell_type": "markdown",
   "metadata": {},
   "source": [
    "##### tfidf + word n-grams"
   ]
  },
  {
   "cell_type": "code",
   "execution_count": 13,
   "metadata": {},
   "outputs": [
    {
     "name": "stdout",
     "output_type": "stream",
     "text": [
      "Accuracy Score:  86.57407407407408\n"
     ]
    }
   ],
   "source": [
    "Random_Forest = RandomForestClassifier(n_estimators=800, random_state=0, class_weight='balanced') \n",
    "Random_Forest.fit(train_x_word,y_train)\n",
    "pred=Random_Forest.predict(test_x_word)\n",
    "print(\"Accuracy Score: \",accuracy_score(pred,y_test)*100)"
   ]
  },
  {
   "cell_type": "code",
   "execution_count": 14,
   "metadata": {},
   "outputs": [],
   "source": [
    "with open('trainx_emb_80%.json','r') as file:\n",
    "    Train_X_emb=json.load(file)\n",
    "with open('testx_emb_20%.json','r') as file:\n",
    "    Test_X_emb=json.load(file)"
   ]
  },
  {
   "cell_type": "code",
   "execution_count": 15,
   "metadata": {},
   "outputs": [],
   "source": [
    "train_x_tfidf_elmo=[Train_X_emb[i]+list(train_x_char[i]) for i in range(len(Train_X_emb))]\n",
    "test_x_tfidf_elmo=[Test_X_emb[i]+list(test_x_char[i]) for i in range(len(Test_X_emb))]"
   ]
  },
  {
   "cell_type": "markdown",
   "metadata": {},
   "source": [
    "##### elmo embeddings"
   ]
  },
  {
   "cell_type": "code",
   "execution_count": 16,
   "metadata": {},
   "outputs": [
    {
     "name": "stdout",
     "output_type": "stream",
     "text": [
      "Accuracy Score:  89.58333333333334\n"
     ]
    }
   ],
   "source": [
    "Random_Forest = RandomForestClassifier(n_estimators=800, random_state=0, class_weight='balanced') \n",
    "Random_Forest.fit(Train_X_emb,y_train)\n",
    "pred=Random_Forest.predict(Test_X_emb)\n",
    "print(\"Accuracy Score: \",accuracy_score(pred,y_test)*100)"
   ]
  },
  {
   "cell_type": "markdown",
   "metadata": {},
   "source": [
    "##### tfidf + elmo embeddings"
   ]
  },
  {
   "cell_type": "code",
   "execution_count": 17,
   "metadata": {},
   "outputs": [
    {
     "name": "stdout",
     "output_type": "stream",
     "text": [
      "Accuracy Score:  91.20370370370371\n"
     ]
    }
   ],
   "source": [
    "Random_Forest = RandomForestClassifier(n_estimators=800, random_state=0, class_weight='balanced') \n",
    "Random_Forest.fit(train_x_tfidf_elmo,y_train)\n",
    "pred=Random_Forest.predict(test_x_tfidf_elmo)\n",
    "print(\"Accuracy Score: \",accuracy_score(pred,y_test)*100)"
   ]
  }
 ],
 "metadata": {
  "kernelspec": {
   "display_name": "Python 3",
   "language": "python",
   "name": "python3"
  },
  "language_info": {
   "codemirror_mode": {
    "name": "ipython",
    "version": 3
   },
   "file_extension": ".py",
   "mimetype": "text/x-python",
   "name": "python",
   "nbconvert_exporter": "python",
   "pygments_lexer": "ipython3",
   "version": "3.6.9"
  }
 },
 "nbformat": 4,
 "nbformat_minor": 2
}
