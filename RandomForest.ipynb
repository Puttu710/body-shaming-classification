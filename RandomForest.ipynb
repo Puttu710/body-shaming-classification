{
 "cells": [
  {
   "cell_type": "code",
   "execution_count": 1,
   "metadata": {},
   "outputs": [],
   "source": [
    "from sklearn import svm\n",
    "import json\n",
    "from sklearn.linear_model import LogisticRegression\n",
    "from sklearn.feature_extraction.text import TfidfTransformer, CountVectorizer\n",
    "from sklearn.metrics import accuracy_score\n",
    "from sklearn.ensemble import RandomForestClassifier"
   ]
  },
  {
   "cell_type": "code",
   "execution_count": 2,
   "metadata": {},
   "outputs": [],
   "source": [
    "with open('training_80%.json','r') as file:\n",
    "    Train_X_text=json.load(file)\n",
    "with open('training_80%_labels.json','r') as file:\n",
    "    Train_Y=json.load(file)\n",
    "\n",
    "with open('testing_20%.json','r') as file:\n",
    "    Test_X_text=json.load(file)\n",
    "with open('testing_20%_labels.json','r') as file:\n",
    "    Test_Y=json.load(file)"
   ]
  },
  {
   "cell_type": "code",
   "execution_count": 3,
   "metadata": {},
   "outputs": [],
   "source": [
    "tfidf_transformer = TfidfTransformer(norm = 'l2')\n",
    "count_vec = CountVectorizer(analyzer=\"char\",max_features = 10000,stop_words='english',ngram_range = (1,8))\n",
    "\n",
    "trainx_t = count_vec.fit_transform(Train_X_text)\n",
    "testx_t=count_vec.transform(Test_X_text)\n",
    "\n",
    "train_x = tfidf_transformer.fit_transform(trainx_t)\n",
    "test_x= tfidf_transformer.transform(testx_t)\n",
    "\n",
    "train_x_char=train_x.toarray()\n",
    "test_x_char=test_x.toarray()"
   ]
  },
  {
   "cell_type": "markdown",
   "metadata": {},
   "source": [
    "##### tfidf + character n-grams"
   ]
  },
  {
   "cell_type": "code",
   "execution_count": 4,
   "metadata": {},
   "outputs": [
    {
     "name": "stdout",
     "output_type": "stream",
     "text": [
      "Accuracy Score ->  94.23558897243107\n"
     ]
    }
   ],
   "source": [
    "Random_Forest = RandomForestClassifier(n_estimators=1000, random_state=0,class_weight='balanced') \n",
    "Random_Forest.fit(train_x_char,Train_Y)\n",
    "pred=Random_Forest.predict(test_x_char)\n",
    "print(\"Accuracy Score -> \",accuracy_score(pred,Test_Y)*100)"
   ]
  },
  {
   "cell_type": "code",
   "execution_count": 9,
   "metadata": {},
   "outputs": [],
   "source": [
    "tfidf_transformer = TfidfTransformer(norm = 'l2')\n",
    "count_vec = CountVectorizer(analyzer=\"word\",max_features = 10000,stop_words='english',ngram_range = (1,2))\n",
    "\n",
    "trainx_t = count_vec.fit_transform(Train_X_text)\n",
    "testx_t=count_vec.transform(Test_X_text)\n",
    "\n",
    "train_x_word = tfidf_transformer.fit_transform(trainx_t)\n",
    "test_x_word= tfidf_transformer.transform(testx_t)"
   ]
  },
  {
   "cell_type": "markdown",
   "metadata": {},
   "source": [
    "##### tfidf + word n-grams"
   ]
  },
  {
   "cell_type": "code",
   "execution_count": 10,
   "metadata": {},
   "outputs": [
    {
     "name": "stdout",
     "output_type": "stream",
     "text": [
      "Accuracy Score ->  82.20551378446115\n"
     ]
    }
   ],
   "source": [
    "Random_Forest = RandomForestClassifier(n_estimators=1000, random_state=0,class_weight='balanced') \n",
    "Random_Forest.fit(train_x_word,Train_Y)\n",
    "pred=Random_Forest.predict(test_x_word)\n",
    "print(\"Accuracy Score -> \",accuracy_score(pred,Test_Y)*100)"
   ]
  },
  {
   "cell_type": "code",
   "execution_count": 11,
   "metadata": {},
   "outputs": [],
   "source": [
    "with open('trainx_emb_80%.json','r') as file:\n",
    "    Train_X_emb=json.load(file)\n",
    "with open('testx_emb_20%.json','r') as file:\n",
    "    Test_X_emb=json.load(file)"
   ]
  },
  {
   "cell_type": "code",
   "execution_count": 12,
   "metadata": {},
   "outputs": [],
   "source": [
    "train_x_tfidf_elmo=[Train_X_emb[i]+list(train_x_char[i]) for i in range(len(Train_X_emb))]\n",
    "test_x_tfidf_elmo=[Test_X_emb[i]+list(test_x_char[i]) for i in range(len(Test_X_emb))]"
   ]
  },
  {
   "cell_type": "markdown",
   "metadata": {},
   "source": [
    "##### elmo embeddings"
   ]
  },
  {
   "cell_type": "code",
   "execution_count": 13,
   "metadata": {},
   "outputs": [
    {
     "name": "stdout",
     "output_type": "stream",
     "text": [
      "Accuracy Score ->  80.95238095238095\n"
     ]
    }
   ],
   "source": [
    "Random_Forest = RandomForestClassifier(n_estimators=1000, random_state=0,class_weight='balanced') \n",
    "Random_Forest.fit(Train_X_emb,Train_Y)\n",
    "pred=Random_Forest.predict(Test_X_emb)\n",
    "print(\"Accuracy Score -> \",accuracy_score(pred,Test_Y)*100)"
   ]
  },
  {
   "cell_type": "markdown",
   "metadata": {},
   "source": [
    "##### tfidf + elmo embeddings"
   ]
  },
  {
   "cell_type": "code",
   "execution_count": null,
   "metadata": {},
   "outputs": [],
   "source": [
    "#elmo+tfidf+rf\n",
    "Random_Forest = RandomForestClassifier(n_estimators=1000, random_state=0,class_weight='balanced') \n",
    "Random_Forest.fit(train_x_tfidf_elmo,Train_Y)\n",
    "pred=Random_Forest.predict(test_x_tfidf_elmo)\n",
    "print(\"Accuracy Score -> \",accuracy_score(pred,Test_Y)*100)"
   ]
  },
  {
   "cell_type": "code",
   "execution_count": null,
   "metadata": {},
   "outputs": [],
   "source": []
  }
 ],
 "metadata": {
  "kernelspec": {
   "display_name": "Python 3",
   "language": "python",
   "name": "python3"
  },
  "language_info": {
   "codemirror_mode": {
    "name": "ipython",
    "version": 3
   },
   "file_extension": ".py",
   "mimetype": "text/x-python",
   "name": "python",
   "nbconvert_exporter": "python",
   "pygments_lexer": "ipython3",
   "version": "3.6.9"
  }
 },
 "nbformat": 4,
 "nbformat_minor": 2
}
