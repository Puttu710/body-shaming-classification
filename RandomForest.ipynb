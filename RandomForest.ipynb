{
 "cells": [
  {
   "cell_type": "code",
   "execution_count": 1,
   "metadata": {},
   "outputs": [],
   "source": [
    "from sklearn.feature_extraction.text import TfidfTransformer, CountVectorizer\n",
    "from sklearn import svm\n",
    "from sklearn.metrics import accuracy_score\n",
    "from sklearn.ensemble import RandomForestClassifier\n",
    "import json\n",
    "from sklearn.linear_model import LogisticRegression"
   ]
  },
  {
   "cell_type": "code",
   "execution_count": 2,
   "metadata": {},
   "outputs": [],
   "source": [
    "with open('training_80%.json','r') as file:\n",
    "    Train_X_text=json.load(file)\n",
    "with open('training_80%_labels.json','r') as file:\n",
    "    Train_Y=json.load(file)\n",
    "\n",
    "with open('testing_20%.json','r') as file:\n",
    "    Test_X_text=json.load(file)\n",
    "with open('testing_20%_labels.json','r') as file:\n",
    "    Test_Y=json.load(file)"
   ]
  },
  {
   "cell_type": "code",
   "execution_count": 7,
   "metadata": {},
   "outputs": [],
   "source": [
    "tfidf_transformer = TfidfTransformer(norm = 'l2')\n",
    "count_vec = CountVectorizer(analyzer=\"char\",max_features = 10000,stop_words='english',ngram_range = (1,8))\n",
    "\n",
    "trainx_tr = count_vec.fit_transform(Train_X_text)\n",
    "testx_tr=count_vec.transform(Test_X_text)\n",
    "\n",
    "train_x = tfidf_transformer.fit_transform(trainx_tr)\n",
    "test_x= tfidf_transformer.transform(testx_tr)\n",
    "\n",
    "train_x_char=train_x.toarray()\n",
    "test_x_char=test_x.toarray()"
   ]
  },
  {
   "cell_type": "code",
   "execution_count": 8,
   "metadata": {},
   "outputs": [
    {
     "name": "stdout",
     "output_type": "stream",
     "text": [
      "Tfidf(char)+RF Accuracy Score ->  94.23558897243107\n"
     ]
    }
   ],
   "source": [
    "RF = RandomForestClassifier(n_estimators=1000, random_state=0,class_weight='balanced') \n",
    "RF.fit(train_x_char,Train_Y)\n",
    "pred=RF.predict(test_x_char)\n",
    "print(\"Tfidf(char)+RF Accuracy Score -> \",accuracy_score(pred,Test_Y)*100)"
   ]
  },
  {
   "cell_type": "code",
   "execution_count": 5,
   "metadata": {},
   "outputs": [],
   "source": [
    "tfidf_transformer = TfidfTransformer(norm = 'l2')\n",
    "count_vec = CountVectorizer(analyzer=\"word\",max_features = 10000,stop_words='english',ngram_range = (1,2))\n",
    "\n",
    "trainx_tr = count_vec.fit_transform(Train_X_text)\n",
    "testx_tr=count_vec.transform(Test_X_text)\n",
    "\n",
    "train_x_word = tfidf_transformer.fit_transform(trainx_tr)\n",
    "test_x_word= tfidf_transformer.transform(testx_tr)"
   ]
  },
  {
   "cell_type": "code",
   "execution_count": 6,
   "metadata": {},
   "outputs": [
    {
     "name": "stdout",
     "output_type": "stream",
     "text": [
      "Tfidf(word)+RF Accuracy Score ->  82.20551378446115\n"
     ]
    }
   ],
   "source": [
    "RF = RandomForestClassifier(n_estimators=1000, random_state=0,class_weight='balanced') \n",
    "RF.fit(train_x_word,Train_Y)\n",
    "pred=RF.predict(test_x_word)\n",
    "print(\"Tfidf(word)+RF Accuracy Score -> \",accuracy_score(pred,Test_Y)*100)"
   ]
  },
  {
   "cell_type": "code",
   "execution_count": null,
   "metadata": {},
   "outputs": [],
   "source": []
  }
 ],
 "metadata": {
  "kernelspec": {
   "display_name": "Python 3",
   "language": "python",
   "name": "python3"
  },
  "language_info": {
   "codemirror_mode": {
    "name": "ipython",
    "version": 3
   },
   "file_extension": ".py",
   "mimetype": "text/x-python",
   "name": "python",
   "nbconvert_exporter": "python",
   "pygments_lexer": "ipython3",
   "version": "3.6.9"
  }
 },
 "nbformat": 4,
 "nbformat_minor": 2
}
